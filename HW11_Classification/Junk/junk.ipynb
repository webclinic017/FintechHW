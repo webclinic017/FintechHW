{
 "cells": [
  {
   "cell_type": "code",
   "execution_count": null,
   "metadata": {},
   "outputs": [],
   "source": [
    "# # NO LONGER REQUIRED - KEEPING FOR FUTURE REFERENCE\n",
    "# # HW REQUIRES THE USE OF StandardScaler FOR NORMALIZING THE DATA\n",
    "\n",
    "# Normalize data\n",
    "\n",
    "# Create function that takes in a series and normalizes it\n",
    "def min_max_scaling(series):\n",
    "    return (series - series.min()) / (series.max() - series.min())\n",
    "\n",
    "# Iterate over the dataframe columns that contain numerical values    \n",
    "for col in df.columns:\n",
    "    if df[col].dtype == object:\n",
    "       pass\n",
    "    else:\n",
    "        df[col] = min_max_scaling(df[col])\n",
    "df"
   ]
  }
 ],
 "metadata": {
  "language_info": {
   "name": "python"
  },
  "orig_nbformat": 4
 },
 "nbformat": 4,
 "nbformat_minor": 2
}
