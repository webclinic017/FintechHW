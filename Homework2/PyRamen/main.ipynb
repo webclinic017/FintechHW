{
 "cells": [
  {
   "cell_type": "markdown",
   "id": "bc8f22f6-f5ae-4b41-a80c-8d93594dbafe",
   "metadata": {},
   "source": [
    "Optional"
   ]
  },
  {
   "cell_type": "code",
   "execution_count": null,
   "id": "db60ad6d-ab78-437c-a17c-e74a4698b254",
   "metadata": {},
   "outputs": [],
   "source": []
  }
 ],
 "metadata": {
  "kernelspec": {
   "display_name": "Python 3.8 (FinTech)",
   "language": "python",
   "name": "fintech"
  },
  "language_info": {
   "codemirror_mode": {
    "name": "ipython",
    "version": 3
   },
   "file_extension": ".py",
   "mimetype": "text/x-python",
   "name": "python",
   "nbconvert_exporter": "python",
   "pygments_lexer": "ipython3",
   "version": "3.8.8"
  }
 },
 "nbformat": 4,
 "nbformat_minor": 5
}
