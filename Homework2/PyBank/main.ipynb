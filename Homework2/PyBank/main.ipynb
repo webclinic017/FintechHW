{
 "cells": [
  {
   "cell_type": "markdown",
   "source": [
    "# FinTech HW2: PyBank"
   ],
   "metadata": {}
  },
  {
   "cell_type": "code",
   "execution_count": 1,
   "source": [
    "# Import the necessary libraries for reading CSV files and manipulating data sets\r\n",
    "\r\n",
    "import pandas as pd\r\n",
    "from pathlib import Path\r\n",
    "\r\n",
    "import numpy as np"
   ],
   "outputs": [],
   "metadata": {}
  },
  {
   "cell_type": "code",
   "execution_count": 2,
   "source": [
    "# Set the path for the CSV file\r\n",
    "\r\n",
    "path = Path(\"budget_data.csv\")"
   ],
   "outputs": [],
   "metadata": {}
  },
  {
   "cell_type": "code",
   "execution_count": 3,
   "source": [
    "# Read the CSV into a dataframe using Pandas and print the first 5 rows\r\n",
    "\r\n",
    "budget_df = pd.read_csv(path)\r\n",
    "budget_df.head()\r\n"
   ],
   "outputs": [
    {
     "output_type": "execute_result",
     "data": {
      "text/html": [
       "<div>\n",
       "<style scoped>\n",
       "    .dataframe tbody tr th:only-of-type {\n",
       "        vertical-align: middle;\n",
       "    }\n",
       "\n",
       "    .dataframe tbody tr th {\n",
       "        vertical-align: top;\n",
       "    }\n",
       "\n",
       "    .dataframe thead th {\n",
       "        text-align: right;\n",
       "    }\n",
       "</style>\n",
       "<table border=\"1\" class=\"dataframe\">\n",
       "  <thead>\n",
       "    <tr style=\"text-align: right;\">\n",
       "      <th></th>\n",
       "      <th>Date</th>\n",
       "      <th>Profit/Losses</th>\n",
       "    </tr>\n",
       "  </thead>\n",
       "  <tbody>\n",
       "    <tr>\n",
       "      <th>0</th>\n",
       "      <td>Jan-2010</td>\n",
       "      <td>867884</td>\n",
       "    </tr>\n",
       "    <tr>\n",
       "      <th>1</th>\n",
       "      <td>Feb-2010</td>\n",
       "      <td>984655</td>\n",
       "    </tr>\n",
       "    <tr>\n",
       "      <th>2</th>\n",
       "      <td>Mar-2010</td>\n",
       "      <td>322013</td>\n",
       "    </tr>\n",
       "    <tr>\n",
       "      <th>3</th>\n",
       "      <td>Apr-2010</td>\n",
       "      <td>-69417</td>\n",
       "    </tr>\n",
       "    <tr>\n",
       "      <th>4</th>\n",
       "      <td>May-2010</td>\n",
       "      <td>310503</td>\n",
       "    </tr>\n",
       "  </tbody>\n",
       "</table>\n",
       "</div>"
      ],
      "text/plain": [
       "       Date  Profit/Losses\n",
       "0  Jan-2010         867884\n",
       "1  Feb-2010         984655\n",
       "2  Mar-2010         322013\n",
       "3  Apr-2010         -69417\n",
       "4  May-2010         310503"
      ]
     },
     "metadata": {},
     "execution_count": 3
    }
   ],
   "metadata": {}
  },
  {
   "cell_type": "code",
   "execution_count": 4,
   "source": [
    "# Calculate the total number of months in the data set\r\n",
    "\r\n",
    "# Use conditional statement to check for duplicates in the data set\r\n",
    "# If there are any duplicates, they will be dropped before calculating the number of months\r\n",
    "\r\n",
    "if budget_df.duplicated().all == False:\r\n",
    "    num_months = budget_df['Date'].count()\r\n",
    "    print(num_months) \r\n",
    "else:\r\n",
    "    budget_df = budget_df.drop_duplicates().copy()\r\n",
    "    num_months = budget_df['Date'].count()\r\n",
    "    print(num_months) "
   ],
   "outputs": [
    {
     "output_type": "stream",
     "name": "stdout",
     "text": [
      "86\n"
     ]
    }
   ],
   "metadata": {}
  },
  {
   "cell_type": "code",
   "execution_count": 43,
   "source": [
    "# Calculate the net total amount of Profit/Losses over the entire period\r\n",
    "\r\n",
    "total_profit_losses = budget_df['Profit/Losses'].sum()\r\n",
    "print(total_profit_losses)"
   ],
   "outputs": [
    {
     "output_type": "stream",
     "name": "stdout",
     "text": [
      "38382578\n"
     ]
    }
   ],
   "metadata": {}
  },
  {
   "cell_type": "code",
   "execution_count": 5,
   "source": [
    "# Calculate the average of the changes in Profit/Losses over the entire period\r\n",
    "\r\n",
    "# Extract values of Profit/Losses dataframe series into a list\r\n",
    "\r\n",
    "profit_losses = budget_df['Profit/Losses'].tolist()\r\n",
    "\r\n",
    "\r\n",
    "# Generate a list of monthly changes in profit/losses\r\n",
    "# A profit/loss difference for the first month can't be calculated therefore the loop must iterate for one less element\r\n",
    "\r\n",
    "monthly_changes=[]\r\n",
    "\r\n",
    "for month_diff in range(len(profit_losses)-1): \r\n",
    "    monthly_changes.append(profit_losses[month_diff + 1] - profit_losses[month_diff])\r\n",
    "\r\n",
    "\r\n",
    "# Calculate the average of the monthly changes and round to two decimal places\r\n",
    "\r\n",
    "avg_monthly_changes = sum(monthly_changes) / len(monthly_changes)\r\n",
    "print(round(avg_monthly_changes,2))"
   ],
   "outputs": [
    {
     "output_type": "stream",
     "name": "stdout",
     "text": [
      "-2315.12\n"
     ]
    }
   ],
   "metadata": {}
  },
  {
   "cell_type": "code",
   "execution_count": 6,
   "source": [
    "# Calculate the greatest increase in profits (date and amount) over the entire period\r\n",
    "\r\n",
    "# Add a new column to the dataframe with the results for the monthly_changes\r\n",
    "# Note that the first month would not have a value for monthly_changes, so a 0 will be added instead\r\n",
    "\r\n",
    "budget_df['Monthly Changes'] = \"\"  #adds a new empty column to the dataframe\r\n",
    "\r\n",
    "month_change = []\r\n",
    "\r\n",
    "for i in range(len(budget_df)):  #iterates over the length of the dataframe\r\n",
    "    if i == 0:\r\n",
    "        budget_df['Monthly Changes'][i] = 0  #sets the monthly change for row 0 equal to 0  \r\n",
    "    else:\r\n",
    "        budget_df['Monthly Changes'][i] = monthly_changes[i-1] #sets the monthly change for all other rows equal to the monthly change value\r\n",
    "\r\n",
    "budget_df\r\n",
    "\r\n",
    "# CONTINUED in next cell"
   ],
   "outputs": [
    {
     "output_type": "stream",
     "name": "stderr",
     "text": [
      "<ipython-input-6-4e4dcc02dac4>:12: SettingWithCopyWarning: \n",
      "A value is trying to be set on a copy of a slice from a DataFrame\n",
      "\n",
      "See the caveats in the documentation: https://pandas.pydata.org/pandas-docs/stable/user_guide/indexing.html#returning-a-view-versus-a-copy\n",
      "  budget_df['Monthly Changes'][i] = 0  #sets the monthly change for row 0 equal to 0\n",
      "<ipython-input-6-4e4dcc02dac4>:14: SettingWithCopyWarning: \n",
      "A value is trying to be set on a copy of a slice from a DataFrame\n",
      "\n",
      "See the caveats in the documentation: https://pandas.pydata.org/pandas-docs/stable/user_guide/indexing.html#returning-a-view-versus-a-copy\n",
      "  budget_df['Monthly Changes'][i] = monthly_changes[i-1]\n"
     ]
    },
    {
     "output_type": "execute_result",
     "data": {
      "text/html": [
       "<div>\n",
       "<style scoped>\n",
       "    .dataframe tbody tr th:only-of-type {\n",
       "        vertical-align: middle;\n",
       "    }\n",
       "\n",
       "    .dataframe tbody tr th {\n",
       "        vertical-align: top;\n",
       "    }\n",
       "\n",
       "    .dataframe thead th {\n",
       "        text-align: right;\n",
       "    }\n",
       "</style>\n",
       "<table border=\"1\" class=\"dataframe\">\n",
       "  <thead>\n",
       "    <tr style=\"text-align: right;\">\n",
       "      <th></th>\n",
       "      <th>Date</th>\n",
       "      <th>Profit/Losses</th>\n",
       "      <th>Monthly Changes</th>\n",
       "    </tr>\n",
       "  </thead>\n",
       "  <tbody>\n",
       "    <tr>\n",
       "      <th>0</th>\n",
       "      <td>Jan-2010</td>\n",
       "      <td>867884</td>\n",
       "      <td>0</td>\n",
       "    </tr>\n",
       "    <tr>\n",
       "      <th>1</th>\n",
       "      <td>Feb-2010</td>\n",
       "      <td>984655</td>\n",
       "      <td>116771</td>\n",
       "    </tr>\n",
       "    <tr>\n",
       "      <th>2</th>\n",
       "      <td>Mar-2010</td>\n",
       "      <td>322013</td>\n",
       "      <td>-662642</td>\n",
       "    </tr>\n",
       "    <tr>\n",
       "      <th>3</th>\n",
       "      <td>Apr-2010</td>\n",
       "      <td>-69417</td>\n",
       "      <td>-391430</td>\n",
       "    </tr>\n",
       "    <tr>\n",
       "      <th>4</th>\n",
       "      <td>May-2010</td>\n",
       "      <td>310503</td>\n",
       "      <td>379920</td>\n",
       "    </tr>\n",
       "    <tr>\n",
       "      <th>...</th>\n",
       "      <td>...</td>\n",
       "      <td>...</td>\n",
       "      <td>...</td>\n",
       "    </tr>\n",
       "    <tr>\n",
       "      <th>81</th>\n",
       "      <td>Oct-2016</td>\n",
       "      <td>102685</td>\n",
       "      <td>-665765</td>\n",
       "    </tr>\n",
       "    <tr>\n",
       "      <th>82</th>\n",
       "      <td>Nov-2016</td>\n",
       "      <td>795914</td>\n",
       "      <td>693229</td>\n",
       "    </tr>\n",
       "    <tr>\n",
       "      <th>83</th>\n",
       "      <td>Dec-2016</td>\n",
       "      <td>60988</td>\n",
       "      <td>-734926</td>\n",
       "    </tr>\n",
       "    <tr>\n",
       "      <th>84</th>\n",
       "      <td>Jan-2017</td>\n",
       "      <td>138230</td>\n",
       "      <td>77242</td>\n",
       "    </tr>\n",
       "    <tr>\n",
       "      <th>85</th>\n",
       "      <td>Feb-2017</td>\n",
       "      <td>671099</td>\n",
       "      <td>532869</td>\n",
       "    </tr>\n",
       "  </tbody>\n",
       "</table>\n",
       "<p>86 rows × 3 columns</p>\n",
       "</div>"
      ],
      "text/plain": [
       "        Date  Profit/Losses Monthly Changes\n",
       "0   Jan-2010         867884               0\n",
       "1   Feb-2010         984655          116771\n",
       "2   Mar-2010         322013         -662642\n",
       "3   Apr-2010         -69417         -391430\n",
       "4   May-2010         310503          379920\n",
       "..       ...            ...             ...\n",
       "81  Oct-2016         102685         -665765\n",
       "82  Nov-2016         795914          693229\n",
       "83  Dec-2016          60988         -734926\n",
       "84  Jan-2017         138230           77242\n",
       "85  Feb-2017         671099          532869\n",
       "\n",
       "[86 rows x 3 columns]"
      ]
     },
     "metadata": {},
     "execution_count": 6
    }
   ],
   "metadata": {}
  },
  {
   "cell_type": "code",
   "execution_count": 34,
   "source": [
    "## CONTINUED: Calculate the greatest increase in profits (date and amount) over the entire period\r\n",
    "\r\n",
    "# Create empty dictionary to populate with Date and Monthly Changes data from dataframe\r\n",
    "\r\n",
    "short_budget = {}\r\n",
    "\r\n",
    "\r\n",
    "# Extract values for Date and Monthly Changes from dataframe into lists\r\n",
    "\r\n",
    "months = budget_df['Date'].tolist() # generated a list for the 'Date' series in dataframe with just the values\r\n",
    "changes = budget_df['Monthly Changes'].tolist() # generated a ist for the 'Monthly Changes' series in dataframe with just the vaues\r\n",
    "\r\n",
    "short_budget = dict(zip(months, changes)) # used zip to create a dictionary from two lists\r\n",
    "\r\n",
    "# Calculate the greatest increase in profits (date and amount) over the entire period\r\n",
    "\r\n",
    "greatest_increase_key = max(short_budget, key = short_budget.get) #obtains the key with the highest value in dictionary\r\n",
    "greatest_increase_value = max(short_budget.values()) #obtains the highest value in dictionary\r\n",
    "\r\n",
    "greatest_increase = print(f\"{greatest_increase_key} {greatest_increase_value}\")"
   ],
   "outputs": [
    {
     "output_type": "stream",
     "name": "stdout",
     "text": [
      "Feb-2012 1926159\n"
     ]
    }
   ],
   "metadata": {}
  },
  {
   "cell_type": "code",
   "execution_count": 35,
   "source": [
    "# Calculate the greatest decrease in losses (date and amount) over the entire period\r\n",
    "\r\n",
    "greatest_decrease_key = min(short_budget, key = short_budget.get)\r\n",
    "greatest_decrease_value = min(short_budget.values())\r\n",
    "\r\n",
    "greatest_decrease = print(f\"{greatest_decrease_key} {greatest_decrease_value}\")"
   ],
   "outputs": [
    {
     "output_type": "stream",
     "name": "stdout",
     "text": [
      "Sep-2013 -2196167\n"
     ]
    }
   ],
   "metadata": {}
  },
  {
   "cell_type": "code",
   "execution_count": 46,
   "source": [
    "# Print the analysis\r\n",
    "\r\n",
    "print(\"Financial Analysis\")\r\n",
    "print(\"---------------------------\")\r\n",
    "print(f\"Total months: {num_months}\")\r\n",
    "print(f\"Total: {total_profit_losses}\")\r\n",
    "print(f\"Average change: {avg_monthly_changes} \")\r\n",
    "print(f\"Greatest Increase in Profits: {greatest_increase_key} ({greatest_increase_value})\")\r\n",
    "print(f\"Greatest Decrease in Profits: {greatest_decrease_key} ({greatest_decrease_value})\")"
   ],
   "outputs": [
    {
     "output_type": "stream",
     "name": "stdout",
     "text": [
      "Financial Analysis\n",
      "---------------------------\n",
      "Total months: 86\n",
      "Total: 38382578\n",
      "Average change: -2315.1176470588234 \n",
      "Greatest Increase in Profits: Feb-2012 (1926159)\n",
      "Greatest Decrease in Profits: Sep-2013 (-2196167)\n"
     ]
    }
   ],
   "metadata": {}
  },
  {
   "cell_type": "code",
   "execution_count": 49,
   "source": [
    "# Export the analysis to a text file that contains the final results\r\n",
    "\r\n",
    "# Set output file name\r\n",
    "output_path = 'output.txt'\r\n",
    "\r\n",
    "# Open the output path as a file object\r\n",
    "with open(output_path, 'w') as file:\r\n",
    "    file.write(\"Financial Analysis\\n\")\r\n",
    "    file.write(\"---------------------------\\n\")\r\n",
    "    file.write(f\"Total months: {num_months}\\n\")\r\n",
    "    file.write(f\"Total: {total_profit_losses}\\n\")\r\n",
    "    file.write(f\"Average change: {avg_monthly_changes}\\n\")\r\n",
    "    file.write(f\"Greatest Increase in Profits: {greatest_increase_key} ({greatest_increase_value})\\n\")\r\n",
    "    file.write(f\"Greatest Decrease in Profits: {greatest_decrease_key} ({greatest_decrease_value})\\n\")"
   ],
   "outputs": [],
   "metadata": {}
  },
  {
   "cell_type": "code",
   "execution_count": null,
   "source": [],
   "outputs": [],
   "metadata": {}
  }
 ],
 "metadata": {
  "kernelspec": {
   "name": "python3",
   "display_name": "Python 3.8.8 64-bit ('FinTech': conda)"
  },
  "language_info": {
   "codemirror_mode": {
    "name": "ipython",
    "version": 3
   },
   "file_extension": ".py",
   "mimetype": "text/x-python",
   "name": "python",
   "nbconvert_exporter": "python",
   "pygments_lexer": "ipython3",
   "version": "3.8.8"
  },
  "interpreter": {
   "hash": "1b96bea370aa25765d77d0a7c5b93f2dc962ef269c95db79ebc3fe3f05623299"
  }
 },
 "nbformat": 4,
 "nbformat_minor": 5
}