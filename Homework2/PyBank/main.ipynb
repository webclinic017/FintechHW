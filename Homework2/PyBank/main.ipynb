{
 "cells": [
  {
   "cell_type": "markdown",
   "id": "dc149342-f980-4720-a379-dfb7d229dedb",
   "metadata": {},
   "source": [
    "HW"
   ]
  },
  {
   "cell_type": "code",
   "execution_count": null,
   "id": "8b3f6482-01e2-4a08-a280-6b962207af8b",
   "metadata": {},
   "outputs": [],
   "source": []
  }
 ],
 "metadata": {
  "kernelspec": {
   "display_name": "Python 3.8 (FinTech)",
   "language": "python",
   "name": "fintech"
  },
  "language_info": {
   "codemirror_mode": {
    "name": "ipython",
    "version": 3
   },
   "file_extension": ".py",
   "mimetype": "text/x-python",
   "name": "python",
   "nbconvert_exporter": "python",
   "pygments_lexer": "ipython3",
   "version": "3.8.8"
  }
 },
 "nbformat": 4,
 "nbformat_minor": 5
}
