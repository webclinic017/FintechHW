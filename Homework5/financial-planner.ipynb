{
 "cells": [
  {
   "cell_type": "markdown",
   "metadata": {},
   "source": [
    "# Unit 5 - Financial Planning"
   ]
  },
  {
   "cell_type": "code",
   "execution_count": 1,
   "metadata": {},
   "outputs": [],
   "source": [
    "# Initial imports\n",
    "import os\n",
    "import requests\n",
    "import pandas as pd\n",
    "from dotenv import load_dotenv\n",
    "import alpaca_trade_api as tradeapi\n",
    "from MCForecastTools import MCSimulation\n",
    "\n",
    "%matplotlib inline"
   ]
  },
  {
   "cell_type": "code",
   "execution_count": 2,
   "metadata": {},
   "outputs": [
    {
     "data": {
      "text/plain": [
       "True"
      ]
     },
     "execution_count": 2,
     "metadata": {},
     "output_type": "execute_result"
    }
   ],
   "source": [
    "# Load .env enviroment variables\n",
    "load_dotenv()"
   ]
  },
  {
   "cell_type": "markdown",
   "metadata": {},
   "source": [
    "## Part 1 - Personal Finance Planner"
   ]
  },
  {
   "cell_type": "markdown",
   "metadata": {},
   "source": [
    "### Collect Crypto Prices Using the `requests` Library"
   ]
  },
  {
   "cell_type": "code",
   "execution_count": 3,
   "metadata": {},
   "outputs": [],
   "source": [
    "# Set current amount of crypto assets\n",
    "my_btc = 1.2\n",
    "my_eth = 5.3"
   ]
  },
  {
   "cell_type": "code",
   "execution_count": 4,
   "metadata": {},
   "outputs": [],
   "source": [
    "# Crypto API URLs\n",
    "btc_url = \"https://api.alternative.me/v2/ticker/Bitcoin/?convert=CAD\"\n",
    "eth_url = \"https://api.alternative.me/v2/ticker/Ethereum/?convert=CAD\""
   ]
  },
  {
   "cell_type": "code",
   "execution_count": 18,
   "metadata": {},
   "outputs": [
    {
     "name": "stdout",
     "output_type": "stream",
     "text": [
      "The current value of your 1.2 BTC is $54899.00\n",
      "The current value of your 5.3 ETH is $3539.17\n"
     ]
    }
   ],
   "source": [
    "# Fetch current BTC price\n",
    "btc_response_data = requests.get(btc_url).json()\n",
    "btc_response_data\n",
    "\n",
    "# Fetch current ETH price\n",
    "eth_response_data = requests.get(eth_url).json()\n",
    "eth_response_data\n",
    "\n",
    "# Compute current value of my crypto\n",
    "btc_current_value = btc_response_data['data']['1']['quotes']['USD']['price']\n",
    "eth_current_value = eth_response_data['data']['1027']['quotes']['USD']['price']\n",
    "\n",
    "# Print current crypto wallet balance\n",
    "print(f\"The current value of your {my_btc} BTC is ${btc_current_value:0.2f}\") #0.2f prints two decimals on a float\n",
    "print(f\"The current value of your {my_eth} ETH is ${eth_current_value:0.2f}\")"
   ]
  },
  {
   "cell_type": "markdown",
   "metadata": {},
   "source": [
    "### Collect Investments Data Using Alpaca: `SPY` (stocks) and `AGG` (bonds)"
   ]
  },
  {
   "cell_type": "code",
   "execution_count": 20,
   "metadata": {},
   "outputs": [],
   "source": [
    "# Set current amount of shares\n",
    "my_agg = 200\n",
    "my_spy = 50"
   ]
  },
  {
   "cell_type": "code",
   "execution_count": 22,
   "metadata": {},
   "outputs": [],
   "source": [
    "# Set Alpaca API key and secret\n",
    "alpaca_api_key = os.getenv(\"ALPACA_API_KEY\")\n",
    "alpaca_secret_key = os.getenv(\"ALPACA_SECRET_KEY\")\n",
    "alpaca_end_point = os.getenv(\"ALPACA_END_POINT\")\n",
    "\n",
    "# Create the Alpaca API object\n",
    "alpaca = tradeapi.REST(\n",
    "    alpaca_api_key,\n",
    "    alpaca_secret_key,\n",
    "    api_version=\"v2\",\n",
    "    base_url= alpaca_end_point)"
   ]
  },
  {
   "cell_type": "code",
   "execution_count": 31,
   "metadata": {},
   "outputs": [
    {
     "data": {
      "text/html": [
       "<div>\n",
       "<style scoped>\n",
       "    .dataframe tbody tr th:only-of-type {\n",
       "        vertical-align: middle;\n",
       "    }\n",
       "\n",
       "    .dataframe tbody tr th {\n",
       "        vertical-align: top;\n",
       "    }\n",
       "\n",
       "    .dataframe thead tr th {\n",
       "        text-align: left;\n",
       "    }\n",
       "\n",
       "    .dataframe thead tr:last-of-type th {\n",
       "        text-align: right;\n",
       "    }\n",
       "</style>\n",
       "<table border=\"1\" class=\"dataframe\">\n",
       "  <thead>\n",
       "    <tr>\n",
       "      <th></th>\n",
       "      <th colspan=\"5\" halign=\"left\">AGG</th>\n",
       "      <th colspan=\"5\" halign=\"left\">SPY</th>\n",
       "    </tr>\n",
       "    <tr>\n",
       "      <th></th>\n",
       "      <th>open</th>\n",
       "      <th>high</th>\n",
       "      <th>low</th>\n",
       "      <th>close</th>\n",
       "      <th>volume</th>\n",
       "      <th>open</th>\n",
       "      <th>high</th>\n",
       "      <th>low</th>\n",
       "      <th>close</th>\n",
       "      <th>volume</th>\n",
       "    </tr>\n",
       "    <tr>\n",
       "      <th>time</th>\n",
       "      <th></th>\n",
       "      <th></th>\n",
       "      <th></th>\n",
       "      <th></th>\n",
       "      <th></th>\n",
       "      <th></th>\n",
       "      <th></th>\n",
       "      <th></th>\n",
       "      <th></th>\n",
       "      <th></th>\n",
       "    </tr>\n",
       "  </thead>\n",
       "  <tbody>\n",
       "    <tr>\n",
       "      <th>2021-10-08 00:00:00-04:00</th>\n",
       "      <td>114.31</td>\n",
       "      <td>114.35</td>\n",
       "      <td>114.07</td>\n",
       "      <td>114.12</td>\n",
       "      <td>4207570</td>\n",
       "      <td>439.48</td>\n",
       "      <td>439.89</td>\n",
       "      <td>437.19</td>\n",
       "      <td>437.82</td>\n",
       "      <td>57510090</td>\n",
       "    </tr>\n",
       "  </tbody>\n",
       "</table>\n",
       "</div>"
      ],
      "text/plain": [
       "                              AGG                                      SPY  \\\n",
       "                             open    high     low   close   volume    open   \n",
       "time                                                                         \n",
       "2021-10-08 00:00:00-04:00  114.31  114.35  114.07  114.12  4207570  439.48   \n",
       "\n",
       "                                                             \n",
       "                             high     low   close    volume  \n",
       "time                                                         \n",
       "2021-10-08 00:00:00-04:00  439.89  437.19  437.82  57510090  "
      ]
     },
     "execution_count": 31,
     "metadata": {},
     "output_type": "execute_result"
    }
   ],
   "source": [
    "# Format current date as ISO format\n",
    "today = pd.Timestamp(\"2021-10-8\", tz=\"America/New_York\").isoformat()\n",
    "\n",
    "# Set the tickers\n",
    "tickers = [\"AGG\", \"SPY\"]\n",
    "\n",
    "# Set timeframe to '1D' for Alpaca API\n",
    "timeframe = \"1D\"\n",
    "\n",
    "# Get current closing prices for SPY and AGG\n",
    "df_portfolio = alpaca.get_barset(\n",
    "    tickers,\n",
    "    timeframe,\n",
    "    start = today,\n",
    "    end = today,\n",
    "    limit = 1000\n",
    ").df\n",
    "\n",
    "# Preview DataFrame\n",
    "df_portfolio"
   ]
  },
  {
   "cell_type": "code",
   "execution_count": 32,
   "metadata": {},
   "outputs": [
    {
     "name": "stdout",
     "output_type": "stream",
     "text": [
      "Current AGG closing price: $114.12\n",
      "Current SPY closing price: $437.82\n"
     ]
    }
   ],
   "source": [
    "# Pick AGG and SPY close prices\n",
    "agg_close_price = float(df_portfolio[\"AGG\"][\"close\"])\n",
    "spy_close_price = float(df_portfolio[\"SPY\"][\"close\"])\n",
    "\n",
    "# Print AGG and SPY close prices\n",
    "print(f\"Current AGG closing price: ${agg_close_price}\")\n",
    "print(f\"Current SPY closing price: ${spy_close_price}\")"
   ]
  },
  {
   "cell_type": "code",
   "execution_count": 33,
   "metadata": {},
   "outputs": [
    {
     "name": "stdout",
     "output_type": "stream",
     "text": [
      "The current value of your 50 SPY shares is $21891.00\n",
      "The current value of your 200 AGG shares is $22824.00\n"
     ]
    }
   ],
   "source": [
    "# Compute the current value of shares\n",
    "my_spy_value = my_spy * spy_close_price\n",
    "my_agg_value = my_agg * agg_close_price\n",
    "\n",
    "# Print current value of shares\n",
    "print(f\"The current value of your {my_spy} SPY shares is ${my_spy_value:0.2f}\")\n",
    "print(f\"The current value of your {my_agg} AGG shares is ${my_agg_value:0.2f}\")"
   ]
  },
  {
   "cell_type": "markdown",
   "metadata": {},
   "source": [
    "### Savings Health Analysis"
   ]
  },
  {
   "cell_type": "code",
   "execution_count": 44,
   "metadata": {},
   "outputs": [
    {
     "data": {
      "text/html": [
       "<div>\n",
       "<style scoped>\n",
       "    .dataframe tbody tr th:only-of-type {\n",
       "        vertical-align: middle;\n",
       "    }\n",
       "\n",
       "    .dataframe tbody tr th {\n",
       "        vertical-align: top;\n",
       "    }\n",
       "\n",
       "    .dataframe thead th {\n",
       "        text-align: right;\n",
       "    }\n",
       "</style>\n",
       "<table border=\"1\" class=\"dataframe\">\n",
       "  <thead>\n",
       "    <tr style=\"text-align: right;\">\n",
       "      <th></th>\n",
       "      <th>amount</th>\n",
       "    </tr>\n",
       "    <tr>\n",
       "      <th>asset</th>\n",
       "      <th></th>\n",
       "    </tr>\n",
       "  </thead>\n",
       "  <tbody>\n",
       "    <tr>\n",
       "      <th>crypto</th>\n",
       "      <td>58438.17</td>\n",
       "    </tr>\n",
       "    <tr>\n",
       "      <th>shares</th>\n",
       "      <td>45648.00</td>\n",
       "    </tr>\n",
       "  </tbody>\n",
       "</table>\n",
       "</div>"
      ],
      "text/plain": [
       "          amount\n",
       "asset           \n",
       "crypto  58438.17\n",
       "shares  45648.00"
      ]
     },
     "metadata": {},
     "output_type": "display_data"
    }
   ],
   "source": [
    "# Set monthly household income\n",
    "monthly_income = 12000\n",
    "\n",
    "# Consolidate financial assets data\n",
    "crypto_assets = btc_current_value + eth_current_value  #adding together all crypto\n",
    "stock_bond_assets = my_agg_value + my_agg_value #adding together all stocks and bonds\n",
    "\n",
    "value_data = {\n",
    "    'amount': [crypto_assets, stock_bond_assets],\n",
    "    'asset': [\"crypto\", \"shares\"]\n",
    "}\n",
    "\n",
    "# Create savings DataFrame\n",
    "df_savings = pd.DataFrame(value_data).set_index('asset')\n",
    "\n",
    "# Display savings DataFrame\n",
    "display(df_savings)"
   ]
  },
  {
   "cell_type": "code",
   "execution_count": 50,
   "metadata": {},
   "outputs": [
    {
     "data": {
      "image/png": "[encoded data removed]",
      "text/plain": [
       "<Figure size 360x360 with 1 Axes>"
      ]
     },
     "metadata": {},
     "output_type": "display_data"
    }
   ],
   "source": [
    "# Plot savings pie chart\n",
    "pie_chart = df_savings.plot.pie(y= 'amount', title=\"Savings Portfolio Composition\", figsize=(5,5))"
   ]
  },
  {
   "cell_type": "code",
   "execution_count": 63,
   "metadata": {},
   "outputs": [
    {
     "name": "stdout",
     "output_type": "stream",
     "text": [
      "Congratulations! You have enough money in your savings fund.\n"
     ]
    }
   ],
   "source": [
    "# Set ideal emergency fund\n",
    "emergency_fund = monthly_income * 3\n",
    "\n",
    "# Calculate total amount of savings\n",
    "total_savings = df_savings['amount'].sum()\n",
    "\n",
    "\n",
    "# Validate saving health\n",
    "\n",
    "#If total savings are greater than the emergency fund, display a message congratulating the person for having enough money in this fund.\n",
    "if total_savings > emergency_fund:\n",
    "    print(f\"Congratulations! You have enough money in your emergency fund.\")\n",
    "\n",
    "#If total savings are equal to the emergency fund, display a message congratulating the person on reaching this financial goal.\n",
    "elif total_savings == emergency_fund:\n",
    "    print(f\"You have reached your financial goal!\")\n",
    "\n",
    "#If total savings are less than the emergency fund, display a message showing how many dollars away the person is from reaching the goal.\n",
    "else:\n",
    "    print(f\"You're ${emergency_fund - total_savings:0.2f} away from achieving your financial goal. Keep saving!\")\n"
   ]
  },
  {
   "cell_type": "markdown",
   "metadata": {},
   "source": [
    "## Part 2 - Retirement Planning\n",
    "\n",
    "### Monte Carlo Simulation"
   ]
  },
  {
   "cell_type": "code",
   "execution_count": 104,
   "metadata": {},
   "outputs": [],
   "source": [
    "# Set start and end dates of five years back from today.\n",
    "# Sample results may vary from the solution based on the time frame chosen\n",
    "\n",
    "start_date1 = pd.Timestamp('2016-10-08', tz='America/New_York').isoformat()\n",
    "end_date1 = pd.Timestamp('2019-10-08', tz='America/New_York').isoformat()\n",
    "\n",
    "start_date2 = pd.Timestamp('2019-10-09', tz='America/New_York').isoformat()\n",
    "end_date2 = pd.Timestamp('2021-10-08', tz='America/New_York').isoformat()"
   ]
  },
  {
   "cell_type": "code",
   "execution_count": 133,
   "metadata": {},
   "outputs": [
    {
     "data": {
      "text/html": [
       "<div>\n",
       "<style scoped>\n",
       "    .dataframe tbody tr th:only-of-type {\n",
       "        vertical-align: middle;\n",
       "    }\n",
       "\n",
       "    .dataframe tbody tr th {\n",
       "        vertical-align: top;\n",
       "    }\n",
       "\n",
       "    .dataframe thead tr th {\n",
       "        text-align: left;\n",
       "    }\n",
       "\n",
       "    .dataframe thead tr:last-of-type th {\n",
       "        text-align: right;\n",
       "    }\n",
       "</style>\n",
       "<table border=\"1\" class=\"dataframe\">\n",
       "  <thead>\n",
       "    <tr>\n",
       "      <th></th>\n",
       "      <th colspan=\"5\" halign=\"left\">AGG</th>\n",
       "      <th colspan=\"5\" halign=\"left\">SPY</th>\n",
       "    </tr>\n",
       "    <tr>\n",
       "      <th></th>\n",
       "      <th>close</th>\n",
       "      <th>high</th>\n",
       "      <th>low</th>\n",
       "      <th>open</th>\n",
       "      <th>volume</th>\n",
       "      <th>close</th>\n",
       "      <th>high</th>\n",
       "      <th>low</th>\n",
       "      <th>open</th>\n",
       "      <th>volume</th>\n",
       "    </tr>\n",
       "    <tr>\n",
       "      <th>time</th>\n",
       "      <th></th>\n",
       "      <th></th>\n",
       "      <th></th>\n",
       "      <th></th>\n",
       "      <th></th>\n",
       "      <th></th>\n",
       "      <th></th>\n",
       "      <th></th>\n",
       "      <th></th>\n",
       "      <th></th>\n",
       "    </tr>\n",
       "  </thead>\n",
       "  <tbody>\n",
       "    <tr>\n",
       "      <th>2016-10-10 00:00:00-04:00</th>\n",
       "      <td>111.530</td>\n",
       "      <td>111.54</td>\n",
       "      <td>111.390</td>\n",
       "      <td>111.47</td>\n",
       "      <td>1115398</td>\n",
       "      <td>216.11</td>\n",
       "      <td>216.70</td>\n",
       "      <td>215.985</td>\n",
       "      <td>216.15</td>\n",
       "      <td>37967102</td>\n",
       "    </tr>\n",
       "    <tr>\n",
       "      <th>2016-10-11 00:00:00-04:00</th>\n",
       "      <td>111.360</td>\n",
       "      <td>111.54</td>\n",
       "      <td>111.350</td>\n",
       "      <td>111.49</td>\n",
       "      <td>2368028</td>\n",
       "      <td>213.45</td>\n",
       "      <td>215.74</td>\n",
       "      <td>212.580</td>\n",
       "      <td>215.66</td>\n",
       "      <td>97351296</td>\n",
       "    </tr>\n",
       "    <tr>\n",
       "      <th>2016-10-12 00:00:00-04:00</th>\n",
       "      <td>111.420</td>\n",
       "      <td>111.43</td>\n",
       "      <td>111.260</td>\n",
       "      <td>111.39</td>\n",
       "      <td>1459683</td>\n",
       "      <td>213.72</td>\n",
       "      <td>214.32</td>\n",
       "      <td>213.010</td>\n",
       "      <td>213.59</td>\n",
       "      <td>59594936</td>\n",
       "    </tr>\n",
       "    <tr>\n",
       "      <th>2016-10-13 00:00:00-04:00</th>\n",
       "      <td>111.570</td>\n",
       "      <td>111.68</td>\n",
       "      <td>111.525</td>\n",
       "      <td>111.60</td>\n",
       "      <td>1651166</td>\n",
       "      <td>213.04</td>\n",
       "      <td>213.59</td>\n",
       "      <td>211.210</td>\n",
       "      <td>212.16</td>\n",
       "      <td>82701384</td>\n",
       "    </tr>\n",
       "    <tr>\n",
       "      <th>2016-10-14 00:00:00-04:00</th>\n",
       "      <td>111.335</td>\n",
       "      <td>111.61</td>\n",
       "      <td>111.330</td>\n",
       "      <td>111.47</td>\n",
       "      <td>2277119</td>\n",
       "      <td>213.09</td>\n",
       "      <td>214.69</td>\n",
       "      <td>213.030</td>\n",
       "      <td>214.16</td>\n",
       "      <td>71665455</td>\n",
       "    </tr>\n",
       "  </tbody>\n",
       "</table>\n",
       "</div>"
      ],
      "text/plain": [
       "                               AGG                                       SPY  \\\n",
       "                             close    high      low    open   volume   close   \n",
       "time                                                                           \n",
       "2016-10-10 00:00:00-04:00  111.530  111.54  111.390  111.47  1115398  216.11   \n",
       "2016-10-11 00:00:00-04:00  111.360  111.54  111.350  111.49  2368028  213.45   \n",
       "2016-10-12 00:00:00-04:00  111.420  111.43  111.260  111.39  1459683  213.72   \n",
       "2016-10-13 00:00:00-04:00  111.570  111.68  111.525  111.60  1651166  213.04   \n",
       "2016-10-14 00:00:00-04:00  111.335  111.61  111.330  111.47  2277119  213.09   \n",
       "\n",
       "                                                              \n",
       "                             high      low    open    volume  \n",
       "time                                                          \n",
       "2016-10-10 00:00:00-04:00  216.70  215.985  216.15  37967102  \n",
       "2016-10-11 00:00:00-04:00  215.74  212.580  215.66  97351296  \n",
       "2016-10-12 00:00:00-04:00  214.32  213.010  213.59  59594936  \n",
       "2016-10-13 00:00:00-04:00  213.59  211.210  212.16  82701384  \n",
       "2016-10-14 00:00:00-04:00  214.69  213.030  214.16  71665455  "
      ]
     },
     "execution_count": 133,
     "metadata": {},
     "output_type": "execute_result"
    }
   ],
   "source": [
    "# Get 5 years' worth of historical data for SPY and AGG\n",
    "# (use a limit=1000 parameter to call the most recent 1000 days of data)\n",
    "\n",
    "#The 5 year time period is greater than 1000 days. I will use two dataframes to obtain the data from the Alpaca API and then concatenate them.\n",
    "\n",
    "df_portfolio_3_year = alpaca.get_barset(\n",
    "    tickers,\n",
    "    timeframe,\n",
    "    start = start_date1,\n",
    "    end = end_date1,\n",
    "    limit = 1000\n",
    ").df\n",
    "\n",
    "df_portfolio_2_year = alpaca.get_barset(\n",
    "    tickers,\n",
    "    timeframe,\n",
    "    start = start_date2,\n",
    "    end = end_date2,\n",
    "    limit = 1000\n",
    ").df\n",
    "\n",
    "\n",
    "# Concatenate dataframes\n",
    "df_portfolio_5_year = pd.concat((df_portfolio_3_year,df_portfolio_2_year),axis=\"rows\", join=\"inner\", sort=True).dropna()\n",
    "\n",
    "# Display sample data\n",
    "df_portfolio_5_year.head()"
   ]
  },
  {
   "cell_type": "code",
   "execution_count": 134,
   "metadata": {},
   "outputs": [],
   "source": [
    "# Configuring a Monte Carlo simulation to forecast 30 years cumulative returns\n",
    "\n",
    "# Set number of simulations\n",
    "num_sims = 500\n",
    "\n",
    "MC_portfolio = MCSimulation(\n",
    "    portfolio_data = df_portfolio_5_year,\n",
    "    weights = [0.6,0.4],\n",
    "    num_simulation = num_sims,\n",
    "    num_trading_days = 252*30\n",
    ")\n"
   ]
  },
  {
   "cell_type": "code",
   "execution_count": 135,
   "metadata": {},
   "outputs": [
    {
     "name": "stdout",
     "output_type": "stream",
     "text": [
      "Running Monte Carlo simulation number 0.\n",
      "Running Monte Carlo simulation number 10.\n",
      "Running Monte Carlo simulation number 20.\n",
      "Running Monte Carlo simulation number 30.\n",
      "Running Monte Carlo simulation number 40.\n",
      "Running Monte Carlo simulation number 50.\n",
      "Running Monte Carlo simulation number 60.\n",
      "Running Monte Carlo simulation number 70.\n",
      "Running Monte Carlo simulation number 80.\n",
      "Running Monte Carlo simulation number 90.\n",
      "Running Monte Carlo simulation number 100.\n"
     ]
    },
    {
     "name": "stderr",
     "output_type": "stream",
     "text": [
      "c:\\Users\\Grep\\Documents\\2021\\Fintech\\homework\\Homework5\\MCForecastTools.py:117: PerformanceWarning: DataFrame is highly fragmented.  This is usually the result of calling `frame.insert` many times, which has poor performance.  Consider joining all columns at once using pd.concat(axis=1) instead.  To get a de-fragmented frame, use `newframe = frame.copy()`\n",
      "  portfolio_cumulative_returns[n] = (1 + sim_df.fillna(0)).cumprod()\n"
     ]
    },
    {
     "name": "stdout",
     "output_type": "stream",
     "text": [
      "Running Monte Carlo simulation number 110.\n",
      "Running Monte Carlo simulation number 120.\n",
      "Running Monte Carlo simulation number 130.\n",
      "Running Monte Carlo simulation number 140.\n",
      "Running Monte Carlo simulation number 150.\n",
      "Running Monte Carlo simulation number 160.\n",
      "Running Monte Carlo simulation number 170.\n",
      "Running Monte Carlo simulation number 180.\n",
      "Running Monte Carlo simulation number 190.\n",
      "Running Monte Carlo simulation number 200.\n",
      "Running Monte Carlo simulation number 210.\n",
      "Running Monte Carlo simulation number 220.\n",
      "Running Monte Carlo simulation number 230.\n",
      "Running Monte Carlo simulation number 240.\n",
      "Running Monte Carlo simulation number 250.\n",
      "Running Monte Carlo simulation number 260.\n",
      "Running Monte Carlo simulation number 270.\n",
      "Running Monte Carlo simulation number 280.\n",
      "Running Monte Carlo simulation number 290.\n",
      "Running Monte Carlo simulation number 300.\n",
      "Running Monte Carlo simulation number 310.\n",
      "Running Monte Carlo simulation number 320.\n",
      "Running Monte Carlo simulation number 330.\n",
      "Running Monte Carlo simulation number 340.\n",
      "Running Monte Carlo simulation number 350.\n",
      "Running Monte Carlo simulation number 360.\n",
      "Running Monte Carlo simulation number 370.\n",
      "Running Monte Carlo simulation number 380.\n",
      "Running Monte Carlo simulation number 390.\n",
      "Running Monte Carlo simulation number 400.\n",
      "Running Monte Carlo simulation number 410.\n",
      "Running Monte Carlo simulation number 420.\n",
      "Running Monte Carlo simulation number 430.\n",
      "Running Monte Carlo simulation number 440.\n",
      "Running Monte Carlo simulation number 450.\n",
      "Running Monte Carlo simulation number 460.\n",
      "Running Monte Carlo simulation number 470.\n",
      "Running Monte Carlo simulation number 480.\n",
      "Running Monte Carlo simulation number 490.\n"
     ]
    },
    {
     "data": {
      "text/html": [
       "<div>\n",
       "<style scoped>\n",
       "    .dataframe tbody tr th:only-of-type {\n",
       "        vertical-align: middle;\n",
       "    }\n",
       "\n",
       "    .dataframe tbody tr th {\n",
       "        vertical-align: top;\n",
       "    }\n",
       "\n",
       "    .dataframe thead th {\n",
       "        text-align: right;\n",
       "    }\n",
       "</style>\n",
       "<table border=\"1\" class=\"dataframe\">\n",
       "  <thead>\n",
       "    <tr style=\"text-align: right;\">\n",
       "      <th></th>\n",
       "      <th>0</th>\n",
       "      <th>1</th>\n",
       "      <th>2</th>\n",
       "      <th>3</th>\n",
       "      <th>4</th>\n",
       "      <th>5</th>\n",
       "      <th>6</th>\n",
       "      <th>7</th>\n",
       "      <th>8</th>\n",
       "      <th>9</th>\n",
       "      <th>...</th>\n",
       "      <th>490</th>\n",
       "      <th>491</th>\n",
       "      <th>492</th>\n",
       "      <th>493</th>\n",
       "      <th>494</th>\n",
       "      <th>495</th>\n",
       "      <th>496</th>\n",
       "      <th>497</th>\n",
       "      <th>498</th>\n",
       "      <th>499</th>\n",
       "    </tr>\n",
       "  </thead>\n",
       "  <tbody>\n",
       "    <tr>\n",
       "      <th>0</th>\n",
       "      <td>1.000000</td>\n",
       "      <td>1.000000</td>\n",
       "      <td>1.000000</td>\n",
       "      <td>1.000000</td>\n",
       "      <td>1.000000</td>\n",
       "      <td>1.000000</td>\n",
       "      <td>1.000000</td>\n",
       "      <td>1.000000</td>\n",
       "      <td>1.000000</td>\n",
       "      <td>1.000000</td>\n",
       "      <td>...</td>\n",
       "      <td>1.000000</td>\n",
       "      <td>1.000000</td>\n",
       "      <td>1.000000</td>\n",
       "      <td>1.000000</td>\n",
       "      <td>1.000000</td>\n",
       "      <td>1.000000</td>\n",
       "      <td>1.000000</td>\n",
       "      <td>1.000000</td>\n",
       "      <td>1.000000</td>\n",
       "      <td>1.000000</td>\n",
       "    </tr>\n",
       "    <tr>\n",
       "      <th>1</th>\n",
       "      <td>1.005169</td>\n",
       "      <td>1.003297</td>\n",
       "      <td>0.995695</td>\n",
       "      <td>1.002066</td>\n",
       "      <td>0.997232</td>\n",
       "      <td>0.991927</td>\n",
       "      <td>0.996214</td>\n",
       "      <td>0.996707</td>\n",
       "      <td>0.996708</td>\n",
       "      <td>0.994211</td>\n",
       "      <td>...</td>\n",
       "      <td>1.002201</td>\n",
       "      <td>0.993820</td>\n",
       "      <td>1.000261</td>\n",
       "      <td>0.992493</td>\n",
       "      <td>1.000440</td>\n",
       "      <td>1.002382</td>\n",
       "      <td>0.990206</td>\n",
       "      <td>1.002287</td>\n",
       "      <td>0.998940</td>\n",
       "      <td>1.001211</td>\n",
       "    </tr>\n",
       "    <tr>\n",
       "      <th>2</th>\n",
       "      <td>1.001706</td>\n",
       "      <td>0.996053</td>\n",
       "      <td>0.991166</td>\n",
       "      <td>1.003704</td>\n",
       "      <td>0.994016</td>\n",
       "      <td>0.988746</td>\n",
       "      <td>0.998042</td>\n",
       "      <td>0.995099</td>\n",
       "      <td>0.995441</td>\n",
       "      <td>0.998879</td>\n",
       "      <td>...</td>\n",
       "      <td>0.998125</td>\n",
       "      <td>0.997785</td>\n",
       "      <td>0.998522</td>\n",
       "      <td>0.995974</td>\n",
       "      <td>1.002323</td>\n",
       "      <td>1.015113</td>\n",
       "      <td>0.984460</td>\n",
       "      <td>1.006163</td>\n",
       "      <td>1.000679</td>\n",
       "      <td>1.005386</td>\n",
       "    </tr>\n",
       "    <tr>\n",
       "      <th>3</th>\n",
       "      <td>1.005306</td>\n",
       "      <td>0.993399</td>\n",
       "      <td>0.991860</td>\n",
       "      <td>0.999778</td>\n",
       "      <td>0.997085</td>\n",
       "      <td>0.985692</td>\n",
       "      <td>0.998708</td>\n",
       "      <td>0.995695</td>\n",
       "      <td>0.989710</td>\n",
       "      <td>0.998951</td>\n",
       "      <td>...</td>\n",
       "      <td>0.986148</td>\n",
       "      <td>1.001349</td>\n",
       "      <td>0.997026</td>\n",
       "      <td>1.000151</td>\n",
       "      <td>0.993670</td>\n",
       "      <td>1.024666</td>\n",
       "      <td>0.987556</td>\n",
       "      <td>1.006889</td>\n",
       "      <td>1.000775</td>\n",
       "      <td>1.008598</td>\n",
       "    </tr>\n",
       "    <tr>\n",
       "      <th>4</th>\n",
       "      <td>0.997628</td>\n",
       "      <td>0.997413</td>\n",
       "      <td>0.990696</td>\n",
       "      <td>0.996428</td>\n",
       "      <td>0.998347</td>\n",
       "      <td>0.990654</td>\n",
       "      <td>0.993094</td>\n",
       "      <td>0.993342</td>\n",
       "      <td>0.994473</td>\n",
       "      <td>1.007086</td>\n",
       "      <td>...</td>\n",
       "      <td>0.988853</td>\n",
       "      <td>1.002920</td>\n",
       "      <td>1.000934</td>\n",
       "      <td>1.001301</td>\n",
       "      <td>0.996547</td>\n",
       "      <td>1.018442</td>\n",
       "      <td>0.987029</td>\n",
       "      <td>1.005064</td>\n",
       "      <td>1.000874</td>\n",
       "      <td>1.008194</td>\n",
       "    </tr>\n",
       "    <tr>\n",
       "      <th>...</th>\n",
       "      <td>...</td>\n",
       "      <td>...</td>\n",
       "      <td>...</td>\n",
       "      <td>...</td>\n",
       "      <td>...</td>\n",
       "      <td>...</td>\n",
       "      <td>...</td>\n",
       "      <td>...</td>\n",
       "      <td>...</td>\n",
       "      <td>...</td>\n",
       "      <td>...</td>\n",
       "      <td>...</td>\n",
       "      <td>...</td>\n",
       "      <td>...</td>\n",
       "      <td>...</td>\n",
       "      <td>...</td>\n",
       "      <td>...</td>\n",
       "      <td>...</td>\n",
       "      <td>...</td>\n",
       "      <td>...</td>\n",
       "      <td>...</td>\n",
       "    </tr>\n",
       "    <tr>\n",
       "      <th>7556</th>\n",
       "      <td>6.954245</td>\n",
       "      <td>3.731536</td>\n",
       "      <td>6.356343</td>\n",
       "      <td>8.655798</td>\n",
       "      <td>4.421673</td>\n",
       "      <td>11.795370</td>\n",
       "      <td>5.905101</td>\n",
       "      <td>8.218567</td>\n",
       "      <td>7.232871</td>\n",
       "      <td>6.510536</td>\n",
       "      <td>...</td>\n",
       "      <td>10.175281</td>\n",
       "      <td>5.755759</td>\n",
       "      <td>5.815594</td>\n",
       "      <td>3.856163</td>\n",
       "      <td>4.328949</td>\n",
       "      <td>3.188485</td>\n",
       "      <td>7.560133</td>\n",
       "      <td>13.446396</td>\n",
       "      <td>9.830184</td>\n",
       "      <td>7.807206</td>\n",
       "    </tr>\n",
       "    <tr>\n",
       "      <th>7557</th>\n",
       "      <td>6.966916</td>\n",
       "      <td>3.738491</td>\n",
       "      <td>6.328372</td>\n",
       "      <td>8.694514</td>\n",
       "      <td>4.442281</td>\n",
       "      <td>11.750170</td>\n",
       "      <td>5.933780</td>\n",
       "      <td>8.249055</td>\n",
       "      <td>7.254182</td>\n",
       "      <td>6.587481</td>\n",
       "      <td>...</td>\n",
       "      <td>10.140876</td>\n",
       "      <td>5.761870</td>\n",
       "      <td>5.806835</td>\n",
       "      <td>3.894700</td>\n",
       "      <td>4.342292</td>\n",
       "      <td>3.181286</td>\n",
       "      <td>7.583836</td>\n",
       "      <td>13.400552</td>\n",
       "      <td>9.824030</td>\n",
       "      <td>7.792043</td>\n",
       "    </tr>\n",
       "    <tr>\n",
       "      <th>7558</th>\n",
       "      <td>7.001059</td>\n",
       "      <td>3.728261</td>\n",
       "      <td>6.309420</td>\n",
       "      <td>8.712258</td>\n",
       "      <td>4.421718</td>\n",
       "      <td>11.852754</td>\n",
       "      <td>5.928058</td>\n",
       "      <td>8.233548</td>\n",
       "      <td>7.258060</td>\n",
       "      <td>6.585790</td>\n",
       "      <td>...</td>\n",
       "      <td>10.180810</td>\n",
       "      <td>5.805422</td>\n",
       "      <td>5.786367</td>\n",
       "      <td>3.888725</td>\n",
       "      <td>4.352002</td>\n",
       "      <td>3.170998</td>\n",
       "      <td>7.614855</td>\n",
       "      <td>13.301450</td>\n",
       "      <td>9.783605</td>\n",
       "      <td>7.768505</td>\n",
       "    </tr>\n",
       "    <tr>\n",
       "      <th>7559</th>\n",
       "      <td>7.006856</td>\n",
       "      <td>3.745364</td>\n",
       "      <td>6.287513</td>\n",
       "      <td>8.639072</td>\n",
       "      <td>4.431514</td>\n",
       "      <td>11.852331</td>\n",
       "      <td>5.902890</td>\n",
       "      <td>8.216069</td>\n",
       "      <td>7.257075</td>\n",
       "      <td>6.531537</td>\n",
       "      <td>...</td>\n",
       "      <td>10.112206</td>\n",
       "      <td>5.783573</td>\n",
       "      <td>5.812985</td>\n",
       "      <td>3.858217</td>\n",
       "      <td>4.346012</td>\n",
       "      <td>3.163563</td>\n",
       "      <td>7.622675</td>\n",
       "      <td>13.319593</td>\n",
       "      <td>9.797987</td>\n",
       "      <td>7.726421</td>\n",
       "    </tr>\n",
       "    <tr>\n",
       "      <th>7560</th>\n",
       "      <td>7.087204</td>\n",
       "      <td>3.759344</td>\n",
       "      <td>6.249075</td>\n",
       "      <td>8.610933</td>\n",
       "      <td>4.419849</td>\n",
       "      <td>11.881868</td>\n",
       "      <td>5.915402</td>\n",
       "      <td>8.212600</td>\n",
       "      <td>7.255803</td>\n",
       "      <td>6.547534</td>\n",
       "      <td>...</td>\n",
       "      <td>10.123191</td>\n",
       "      <td>5.787105</td>\n",
       "      <td>5.819409</td>\n",
       "      <td>3.840525</td>\n",
       "      <td>4.333340</td>\n",
       "      <td>3.163116</td>\n",
       "      <td>7.700117</td>\n",
       "      <td>13.266786</td>\n",
       "      <td>9.765910</td>\n",
       "      <td>7.673146</td>\n",
       "    </tr>\n",
       "  </tbody>\n",
       "</table>\n",
       "<p>7561 rows × 500 columns</p>\n",
       "</div>"
      ],
      "text/plain": [
       "           0         1         2         3         4          5         6    \\\n",
       "0     1.000000  1.000000  1.000000  1.000000  1.000000   1.000000  1.000000   \n",
       "1     1.005169  1.003297  0.995695  1.002066  0.997232   0.991927  0.996214   \n",
       "2     1.001706  0.996053  0.991166  1.003704  0.994016   0.988746  0.998042   \n",
       "3     1.005306  0.993399  0.991860  0.999778  0.997085   0.985692  0.998708   \n",
       "4     0.997628  0.997413  0.990696  0.996428  0.998347   0.990654  0.993094   \n",
       "...        ...       ...       ...       ...       ...        ...       ...   \n",
       "7556  6.954245  3.731536  6.356343  8.655798  4.421673  11.795370  5.905101   \n",
       "7557  6.966916  3.738491  6.328372  8.694514  4.442281  11.750170  5.933780   \n",
       "7558  7.001059  3.728261  6.309420  8.712258  4.421718  11.852754  5.928058   \n",
       "7559  7.006856  3.745364  6.287513  8.639072  4.431514  11.852331  5.902890   \n",
       "7560  7.087204  3.759344  6.249075  8.610933  4.419849  11.881868  5.915402   \n",
       "\n",
       "           7         8         9    ...        490       491       492  \\\n",
       "0     1.000000  1.000000  1.000000  ...   1.000000  1.000000  1.000000   \n",
       "1     0.996707  0.996708  0.994211  ...   1.002201  0.993820  1.000261   \n",
       "2     0.995099  0.995441  0.998879  ...   0.998125  0.997785  0.998522   \n",
       "3     0.995695  0.989710  0.998951  ...   0.986148  1.001349  0.997026   \n",
       "4     0.993342  0.994473  1.007086  ...   0.988853  1.002920  1.000934   \n",
       "...        ...       ...       ...  ...        ...       ...       ...   \n",
       "7556  8.218567  7.232871  6.510536  ...  10.175281  5.755759  5.815594   \n",
       "7557  8.249055  7.254182  6.587481  ...  10.140876  5.761870  5.806835   \n",
       "7558  8.233548  7.258060  6.585790  ...  10.180810  5.805422  5.786367   \n",
       "7559  8.216069  7.257075  6.531537  ...  10.112206  5.783573  5.812985   \n",
       "7560  8.212600  7.255803  6.547534  ...  10.123191  5.787105  5.819409   \n",
       "\n",
       "           493       494       495       496        497       498       499  \n",
       "0     1.000000  1.000000  1.000000  1.000000   1.000000  1.000000  1.000000  \n",
       "1     0.992493  1.000440  1.002382  0.990206   1.002287  0.998940  1.001211  \n",
       "2     0.995974  1.002323  1.015113  0.984460   1.006163  1.000679  1.005386  \n",
       "3     1.000151  0.993670  1.024666  0.987556   1.006889  1.000775  1.008598  \n",
       "4     1.001301  0.996547  1.018442  0.987029   1.005064  1.000874  1.008194  \n",
       "...        ...       ...       ...       ...        ...       ...       ...  \n",
       "7556  3.856163  4.328949  3.188485  7.560133  13.446396  9.830184  7.807206  \n",
       "7557  3.894700  4.342292  3.181286  7.583836  13.400552  9.824030  7.792043  \n",
       "7558  3.888725  4.352002  3.170998  7.614855  13.301450  9.783605  7.768505  \n",
       "7559  3.858217  4.346012  3.163563  7.622675  13.319593  9.797987  7.726421  \n",
       "7560  3.840525  4.333340  3.163116  7.700117  13.266786  9.765910  7.673146  \n",
       "\n",
       "[7561 rows x 500 columns]"
      ]
     },
     "execution_count": 135,
     "metadata": {},
     "output_type": "execute_result"
    }
   ],
   "source": [
    "# Running a Monte Carlo simulation to forecast 30 years cumulative returns\n",
    "MC_portfolio.calc_cumulative_return()"
   ]
  },
  {
   "cell_type": "code",
   "execution_count": 136,
   "metadata": {},
   "outputs": [
    {
     "data": {
      "image/png": "[encoded data removed]",
      "text/plain": [
       "<Figure size 432x288 with 1 Axes>"
      ]
     },
     "metadata": {
      "needs_background": "light"
     },
     "output_type": "display_data"
    }
   ],
   "source": [
    "# Plot simulation outcomes\n",
    "line_plot = MC_portfolio.plot_simulation()"
   ]
  },
  {
   "cell_type": "code",
   "execution_count": 137,
   "metadata": {},
   "outputs": [
    {
     "data": {
      "image/png": "[encoded data removed]",
      "text/plain": [
       "<Figure size 432x288 with 1 Axes>"
      ]
     },
     "metadata": {
      "needs_background": "light"
     },
     "output_type": "display_data"
    }
   ],
   "source": [
    "# Plot probability distribution and confidence intervals\n",
    "dist_plot = MC_portfolio.plot_distribution()"
   ]
  },
  {
   "cell_type": "markdown",
   "metadata": {},
   "source": [
    "### Retirement Analysis"
   ]
  },
  {
   "cell_type": "code",
   "execution_count": 138,
   "metadata": {},
   "outputs": [
    {
     "name": "stdout",
     "output_type": "stream",
     "text": [
      "count           500.000000\n",
      "mean              7.216461\n",
      "std               3.218466\n",
      "min               1.732195\n",
      "25%               4.913494\n",
      "50%               6.689389\n",
      "75%               8.705634\n",
      "max              24.616133\n",
      "95% CI Lower      2.864833\n",
      "95% CI Upper     15.242006\n",
      "Name: 7560, dtype: float64\n"
     ]
    }
   ],
   "source": [
    "# Fetch summary statistics from the Monte Carlo simulation results\n",
    "summary_tbl = MC_portfolio.summarize_cumulative_return()\n",
    "\n",
    "# Print summary statistics\n",
    "print(summary_tbl)"
   ]
  },
  {
   "cell_type": "markdown",
   "metadata": {},
   "source": [
    "### Calculate the expected portfolio return at the `95%` lower and upper confidence intervals based on a `$20,000` initial investment."
   ]
  },
  {
   "cell_type": "code",
   "execution_count": 139,
   "metadata": {},
   "outputs": [
    {
     "name": "stdout",
     "output_type": "stream",
     "text": [
      "There is a 95% chance that an initial investment of $20000 in the portfolio over the next 30 years will end within in the range of $57296.67 and $304840.12\n"
     ]
    }
   ],
   "source": [
    "# Set initial investment\n",
    "initial_investment = 20000\n",
    "\n",
    "# Use the lower and upper `95%` confidence intervals to calculate the range of the possible outcomes of our $20,000\n",
    "ci_lower = round(summary_tbl[8]*initial_investment,2)\n",
    "ci_upper = round(summary_tbl[9]*initial_investment,2)\n",
    "\n",
    "# Print results\n",
    "print(f\"There is a 95% chance that an initial investment of ${initial_investment} in the portfolio\"\n",
    "      f\" over the next 30 years will end within in the range of\"\n",
    "      f\" ${ci_lower} and ${ci_upper}\")"
   ]
  },
  {
   "cell_type": "markdown",
   "metadata": {},
   "source": [
    "### Calculate the expected portfolio return at the `95%` lower and upper confidence intervals based on a `50%` increase in the initial investment."
   ]
  },
  {
   "cell_type": "code",
   "execution_count": 140,
   "metadata": {},
   "outputs": [
    {
     "name": "stdout",
     "output_type": "stream",
     "text": [
      "There is a 95% chance that an initial investment of $30000.0 in the portfolio over the next 30 years will end within in the range of $85945.0 and $457260.19\n"
     ]
    }
   ],
   "source": [
    "# Set initial investment\n",
    "initial_investment = 20000 * 1.5\n",
    "\n",
    "# Use the lower and upper `95%` confidence intervals to calculate the range of the possible outcomes of our $30,000\n",
    "ci_lower = round(summary_tbl[8]*initial_investment,2)\n",
    "ci_upper = round(summary_tbl[9]*initial_investment,2)\n",
    "\n",
    "# Print results\n",
    "print(f\"There is a 95% chance that an initial investment of ${initial_investment} in the portfolio\"\n",
    "      f\" over the next 30 years will end within in the range of\"\n",
    "      f\" ${ci_lower} and ${ci_upper}\")"
   ]
  },
  {
   "cell_type": "markdown",
   "metadata": {},
   "source": [
    "## Optional Challenge - Early Retirement\n",
    "\n",
    "\n",
    "### Five Years Retirement Option"
   ]
  },
  {
   "cell_type": "code",
   "execution_count": null,
   "metadata": {},
   "outputs": [],
   "source": [
    "# Configuring a Monte Carlo simulation to forecast 5 years cumulative returns\n",
    "# YOUR CODE HERE!"
   ]
  },
  {
   "cell_type": "code",
   "execution_count": null,
   "metadata": {},
   "outputs": [],
   "source": [
    "# Running a Monte Carlo simulation to forecast 5 years cumulative returns\n",
    "# YOUR CODE HERE!"
   ]
  },
  {
   "cell_type": "code",
   "execution_count": null,
   "metadata": {},
   "outputs": [],
   "source": [
    "# Plot simulation outcomes\n",
    "# YOUR CODE HERE!"
   ]
  },
  {
   "cell_type": "code",
   "execution_count": null,
   "metadata": {},
   "outputs": [],
   "source": [
    "# Plot probability distribution and confidence intervals\n",
    "# YOUR CODE HERE!"
   ]
  },
  {
   "cell_type": "code",
   "execution_count": null,
   "metadata": {},
   "outputs": [],
   "source": [
    "# Fetch summary statistics from the Monte Carlo simulation results\n",
    "# YOUR CODE HERE!\n",
    "\n",
    "# Print summary statistics\n",
    "# YOUR CODE HERE!"
   ]
  },
  {
   "cell_type": "code",
   "execution_count": null,
   "metadata": {},
   "outputs": [],
   "source": [
    "# Set initial investment\n",
    "# YOUR CODE HERE!\n",
    "\n",
    "# Use the lower and upper `95%` confidence intervals to calculate the range of the possible outcomes of our $60,000\n",
    "# YOUR CODE HERE!\n",
    "\n",
    "# Print results\n",
    "print(f\"There is a 95% chance that an initial investment of ${initial_investment} in the portfolio\"\n",
    "      f\" over the next 5 years will end within in the range of\"\n",
    "      f\" ${ci_lower_five} and ${ci_upper_five}\")"
   ]
  },
  {
   "cell_type": "markdown",
   "metadata": {},
   "source": [
    "### Ten Years Retirement Option"
   ]
  },
  {
   "cell_type": "code",
   "execution_count": null,
   "metadata": {},
   "outputs": [],
   "source": [
    "# Configuring a Monte Carlo simulation to forecast 10 years cumulative returns\n",
    "# YOUR CODE HERE!"
   ]
  },
  {
   "cell_type": "code",
   "execution_count": null,
   "metadata": {},
   "outputs": [],
   "source": [
    "# Running a Monte Carlo simulation to forecast 10 years cumulative returns\n",
    "# YOUR CODE HERE!"
   ]
  },
  {
   "cell_type": "code",
   "execution_count": null,
   "metadata": {},
   "outputs": [],
   "source": [
    "# Plot simulation outcomes\n",
    "# YOUR CODE HERE!"
   ]
  },
  {
   "cell_type": "code",
   "execution_count": null,
   "metadata": {},
   "outputs": [],
   "source": [
    "# Plot probability distribution and confidence intervals\n",
    "# YOUR CODE HERE!"
   ]
  },
  {
   "cell_type": "code",
   "execution_count": null,
   "metadata": {},
   "outputs": [],
   "source": [
    "# Fetch summary statistics from the Monte Carlo simulation results\n",
    "# YOUR CODE HERE!\n",
    "\n",
    "# Print summary statistics\n",
    "# YOUR CODE HERE!"
   ]
  },
  {
   "cell_type": "code",
   "execution_count": null,
   "metadata": {},
   "outputs": [],
   "source": [
    "# Set initial investment\n",
    "# YOUR CODE HERE!\n",
    "\n",
    "# Use the lower and upper `95%` confidence intervals to calculate the range of the possible outcomes of our $60,000\n",
    "# YOUR CODE HERE!\n",
    "\n",
    "# Print results\n",
    "print(f\"There is a 95% chance that an initial investment of ${initial_investment} in the portfolio\"\n",
    "      f\" over the next 10 years will end within in the range of\"\n",
    "      f\" ${ci_lower_ten} and ${ci_upper_ten}\")"
   ]
  },
  {
   "cell_type": "code",
   "execution_count": null,
   "metadata": {},
   "outputs": [],
   "source": []
  }
 ],
 "metadata": {
  "interpreter": {
   "hash": "1b96bea370aa25765d77d0a7c5b93f2dc962ef269c95db79ebc3fe3f05623299"
  },
  "kernelspec": {
   "display_name": "Python 3.8.8 64-bit ('FinTech': conda)",
   "name": "python3"
  },
  "language_info": {
   "codemirror_mode": {
    "name": "ipython",
    "version": 3
   },
   "file_extension": ".py",
   "mimetype": "text/x-python",
   "name": "python",
   "nbconvert_exporter": "python",
   "pygments_lexer": "ipython3",
   "version": "3.8.8"
  },
  "nteract": {
   "version": "0.28.0"
  }
 },
 "nbformat": 4,
 "nbformat_minor": 4
}
